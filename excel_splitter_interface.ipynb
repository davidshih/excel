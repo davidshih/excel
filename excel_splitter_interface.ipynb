{
 "cells": [
  {
   "cell_type": "markdown",
   "metadata": {},
   "source": "# Excel Splitter for SharePoint - Interactive Interface\n\nThis notebook provides an easy-to-use interface for splitting Excel files by reviewer and preparing them for SharePoint upload with automatic email-based sharing.\n\n## Prerequisites\n- Python 3.9 or higher\n- Required packages: pandas, openpyxl, ipywidgets\n- Excel file with \"Reviewer\" column\n- (Optional) \"Email Address\" column for automatic SharePoint sharing\n- (Optional) Word documents and permission PDFs for distribution\n\n## Features\n- 📂 Creates application-specific folder structure\n- 📊 Splits Excel by reviewer with filtered views\n- 📧 Automatically maps reviewers to email addresses\n- 📄 Copies related documents to each folder\n- 🔐 Generates SharePoint sharing script with pre-filled emails",
   "outputs": []
  },
  {
   "cell_type": "markdown",
   "metadata": {},
   "source": [
    "## Step 1: Install Required Packages\n",
    "Run this cell first to ensure all dependencies are installed:"
   ]
  },
  {
   "cell_type": "code",
   "execution_count": null,
   "metadata": {},
   "outputs": [],
   "source": [
    "# Install required packages\n",
    "import sys\n",
    "!{sys.executable} -m pip install pandas openpyxl"
   ]
  },
  {
   "cell_type": "markdown",
   "metadata": {},
   "source": [
    "## Step 2: Import Required Libraries"
   ]
  },
  {
   "cell_type": "code",
   "execution_count": null,
   "metadata": {},
   "outputs": [],
   "source": [
    "import os\n",
    "import sys\n",
    "import shutil\n",
    "import pandas as pd\n",
    "from pathlib import Path\n",
    "from openpyxl import load_workbook\n",
    "from openpyxl.utils import get_column_letter\n",
    "import glob\n",
    "from datetime import datetime\n",
    "from IPython.display import display, HTML, clear_output\n",
    "import ipywidgets as widgets\n",
    "\n",
    "print(\"✓ Libraries imported successfully\")"
   ]
  },
  {
   "cell_type": "markdown",
   "metadata": {},
   "source": [
    "## Step 3: Define Helper Functions"
   ]
  },
  {
   "cell_type": "code",
   "metadata": {},
   "outputs": [],
   "source": "def find_column(worksheet, column_name):\n    \"\"\"Find column index by name\"\"\"\n    for col_idx, cell in enumerate(worksheet[1], start=1):\n        if cell.value == column_name:\n            return col_idx\n    raise ValueError(f\"Cannot find '{column_name}' column! Please check column name\")\n\ndef copy_selected_documents(source_dir, dest_dir, copy_word=True, copy_pdf=True):\n    \"\"\"Copy selected document types to destination\"\"\"\n    copied_files = []\n    \n    if copy_word:\n        # Word documents (.docx and .doc)\n        word_patterns = [\n            os.path.join(source_dir, \"*.docx\"),\n            os.path.join(source_dir, \"*.doc\")\n        ]\n        \n        for pattern in word_patterns:\n            for file in glob.glob(pattern):\n                if os.path.isfile(file):\n                    dest_path = os.path.join(dest_dir, os.path.basename(file))\n                    shutil.copy2(file, dest_path)\n                    copied_files.append(os.path.basename(file))\n    \n    if copy_pdf:\n        # PDF documents\n        pdf_pattern = os.path.join(source_dir, \"*.pdf\")\n        for file in glob.glob(pdf_pattern):\n            if os.path.isfile(file):\n                dest_path = os.path.join(dest_dir, os.path.basename(file))\n                shutil.copy2(file, dest_path)\n                copied_files.append(os.path.basename(file))\n    \n    return copied_files\n\ndef create_sharepoint_script(base_dir, reviewer_emails):\n    \"\"\"Create PowerShell script for SharePoint permissions with automatic email mapping\"\"\"\n    script_path = os.path.join(base_dir, \"share_folders.ps1\")\n    \n    with open(script_path, 'w', encoding='utf-8') as f:\n        f.write(\"# PowerShell script to share folders on SharePoint\\n\")\n        f.write(\"# Generated on: \" + datetime.now().strftime(\"%Y-%m-%d %H:%M:%S\") + \"\\n\\n\")\n        f.write(\"# IMPORTANT: The Excel files in subfolders will sync back to the original file\\n\")\n        f.write(\"# when uploaded to SharePoint with proper co-authoring enabled.\\n\\n\")\n        f.write(\"$siteUrl = Read-Host 'Enter SharePoint site URL'\\n\")\n        f.write(\"$baseFolder = Read-Host 'Enter base folder path on SharePoint'\\n\\n\")\n        f.write(\"Connect-PnPOnline -Url $siteUrl -UseWebLogin\\n\\n\")\n        \n        for reviewer_name, email in reviewer_emails.items():\n            f.write(f\"# Share folder for {reviewer_name}\\n\")\n            f.write(f\"$folderPath = Join-Path $baseFolder '{reviewer_name}'\\n\")\n            \n            if email and email != 'N/A':\n                f.write(f\"$userEmail = '{email}'\\n\")\n                f.write(f\"Write-Host 'Sharing with {reviewer_name} ({email})...'\\n\")\n            else:\n                f.write(f\"$userEmail = Read-Host 'Enter email for {reviewer_name}'\\n\")\n            \n            f.write(f\"try {{\\n\")\n            f.write(f\"    Set-PnPFolderPermission -List 'Documents' -Identity $folderPath -User $userEmail -AddRole 'Edit'\\n\")\n            f.write(f\"    Write-Host '✓ Shared folder for {reviewer_name} with Edit permissions' -ForegroundColor Green\\n\")\n            f.write(f\"}} catch {{\\n\")\n            f.write(f\"    Write-Host '✗ Failed to share with {reviewer_name}: $_' -ForegroundColor Red\\n\")\n            f.write(f\"}}\\n\\n\")\n    \n    return script_path\n\nprint(\"✓ Helper functions defined\")"
  },
  {
   "cell_type": "markdown",
   "metadata": {},
   "source": [
    "## Step 4: User Input Interface\n",
    "Fill in the required information below:"
   ]
  },
  {
   "cell_type": "code",
   "metadata": {},
   "outputs": [],
   "source": "# Create input widgets\nexcel_file = widgets.Text(\n    value='',\n    placeholder='C:\\\\Users\\\\YourName\\\\Documents\\\\user_listing.xlsx',\n    description='Excel File:',\n    style={'description_width': 'initial'},\n    layout=widgets.Layout(width='600px')\n)\n\nreviewer_column = widgets.Text(\n    value='Reviewer',\n    description='Reviewer Column:',\n    style={'description_width': 'initial'},\n    layout=widgets.Layout(width='300px')\n)\n\nemail_column = widgets.Text(\n    value='Email Address',\n    description='Email Column:',\n    style={'description_width': 'initial'},\n    layout=widgets.Layout(width='300px')\n)\n\ncopy_word_docs = widgets.Checkbox(\n    value=True,\n    description='Copy Word documents (.doc, .docx) to reviewer folders',\n    style={'description_width': 'initial'}\n)\n\ncopy_pdf_docs = widgets.Checkbox(\n    value=True,\n    description='Copy PDF documents (.pdf) to reviewer folders',\n    style={'description_width': 'initial'}\n)\n\ncreate_script = widgets.Checkbox(\n    value=True,\n    description='Create SharePoint sharing script',\n    style={'description_width': 'initial'}\n)\n\nauto_email = widgets.Checkbox(\n    value=True,\n    description='Use email addresses from Excel for automatic sharing (if available)',\n    style={'description_width': 'initial'}\n)\n\n# Display input form\ndisplay(HTML(\"<h3>Configuration</h3>\"))\ndisplay(excel_file)\ndisplay(reviewer_column)\ndisplay(email_column)\ndisplay(HTML(\"<h4>Options</h4>\"))\ndisplay(copy_word_docs)\ndisplay(copy_pdf_docs)\ndisplay(create_script)\ndisplay(auto_email)\n\n# Create button\nprocess_button = widgets.Button(\n    description='Process Excel File',\n    button_style='primary',\n    layout=widgets.Layout(width='200px', height='40px')\n)\n\noutput = widgets.Output()\n\ndisplay(HTML(\"<br>\"))\ndisplay(process_button)\ndisplay(output)"
  },
  {
   "cell_type": "markdown",
   "metadata": {},
   "source": [
    "## Step 5: Processing Function"
   ]
  },
  {
   "cell_type": "code",
   "metadata": {},
   "outputs": [],
   "source": "def process_excel(button):\n    \"\"\"Main processing function triggered by button click\"\"\"\n    with output:\n        clear_output()\n        \n        # Validate inputs\n        if not excel_file.value:\n            print(\"❌ Error: Please specify an Excel file path\")\n            return\n        \n        file_path = excel_file.value.strip()\n        column = reviewer_column.value.strip()\n        email_col = email_column.value.strip() if auto_email.value else None\n        \n        # Convert path for Windows\n        file_path = os.path.normpath(file_path)\n        \n        if not os.path.exists(file_path):\n            print(f\"❌ Error: File not found: {file_path}\")\n            return\n        \n        print(f\"📁 Processing: {file_path}\")\n        print(f\"📊 Reviewer Column: {column}\")\n        if email_col:\n            print(f\"📧 Email Column: {email_col}\")\n        print(\"=\"*50)\n        \n        try:\n            # Read Excel file\n            df = pd.read_excel(file_path, engine='openpyxl')\n            \n            if column not in df.columns:\n                print(f\"❌ Error: Column '{column}' not found in Excel file\")\n                print(f\"Available columns: {', '.join(df.columns)}\")\n                return\n            \n            # Get unique reviewers\n            reviewers = df[column].dropna().unique().tolist()\n            print(f\"✓ Found {len(reviewers)} reviewers\")\n            \n            # Create email mapping if email column exists\n            reviewer_emails = {}\n            if email_col and email_col in df.columns:\n                print(f\"✓ Found '{email_col}' column - will use for automatic sharing\")\n                for reviewer in reviewers:\n                    reviewer_data = df[df[column] == reviewer]\n                    if not reviewer_data.empty:\n                        email = reviewer_data[email_col].iloc[0]\n                        if pd.notna(email):\n                            reviewer_emails[str(reviewer).strip()] = str(email).strip()\n                        else:\n                            reviewer_emails[str(reviewer).strip()] = 'N/A'\n            else:\n                if email_col and email_col not in df.columns:\n                    print(f\"⚠️ Warning: Email column '{email_col}' not found - will prompt for emails during sharing\")\n                reviewer_emails = {str(r).strip(): 'N/A' for r in reviewers}\n            \n            # Get base directory and filename parts\n            base_dir = os.path.dirname(file_path)\n            base_name = os.path.basename(file_path)\n            name_without_ext = os.path.splitext(base_name)[0]\n            ext = os.path.splitext(base_name)[1]\n            \n            # Count documents in the folder\n            if copy_word_docs.value or copy_pdf_docs.value:\n                doc_patterns = []\n                if copy_word_docs.value:\n                    doc_patterns.extend([\"*.docx\", \"*.doc\"])\n                if copy_pdf_docs.value:\n                    doc_patterns.append(\"*.pdf\")\n                \n                doc_count = 0\n                for pattern in doc_patterns:\n                    doc_count += len(glob.glob(os.path.join(base_dir, pattern)))\n                if doc_count > 0:\n                    print(f\"✓ Found {doc_count} document(s) to copy\")\n            \n            # Process each reviewer\n            processed = 0\n            \n            for reviewer in reviewers:\n                reviewer_name = str(reviewer).strip()\n                print(f\"\\n📝 Processing: {reviewer_name}\")\n                \n                # Create reviewer folder in the same directory as Excel file\n                reviewer_folder = os.path.join(base_dir, reviewer_name)\n                os.makedirs(reviewer_folder, exist_ok=True)\n                \n                # Create filtered Excel with reviewer name in filename\n                new_filename = f\"{name_without_ext} - {reviewer_name}{ext}\"\n                dst_path = os.path.join(reviewer_folder, new_filename)\n                wb = load_workbook(file_path)\n                ws = wb.active\n                \n                try:\n                    # Find column and apply filter\n                    col_idx = find_column(ws, column)\n                    max_row = ws.max_row\n                    max_col = ws.max_column\n                    \n                    filter_range = f\"A1:{get_column_letter(max_col)}{max_row}\"\n                    ws.auto_filter.ref = filter_range\n                    ws.auto_filter.add_filter_column(col_idx - 1, [reviewer_name])\n                    \n                    # Hide rows that don't belong to this reviewer\n                    for row in range(2, max_row + 1):  # Start from row 2 (skip header)\n                        cell_value = ws.cell(row=row, column=col_idx).value\n                        if cell_value != reviewer_name:\n                            ws.row_dimensions[row].hidden = True\n                    \n                    wb.save(dst_path)\n                    print(f\"  ✓ Created: {new_filename}\")\n                    \n                    # Copy selected documents\n                    if copy_word_docs.value or copy_pdf_docs.value:\n                        copied = copy_selected_documents(base_dir, reviewer_folder, \n                                                       copy_word=copy_word_docs.value, \n                                                       copy_pdf=copy_pdf_docs.value)\n                        if copied:\n                            doc_types = []\n                            if copy_word_docs.value:\n                                doc_types.append(\"Word\")\n                            if copy_pdf_docs.value:\n                                doc_types.append(\"PDF\")\n                            print(f\"  ✓ Copied {len(copied)} {'/'.join(doc_types)} document(s)\")\n                    \n                    processed += 1\n                    \n                except Exception as e:\n                    print(f\"  ❌ Error: {e}\")\n                finally:\n                    wb.close()\n            \n            # Create SharePoint script if requested\n            if create_script.value:\n                script_path = create_sharepoint_script(base_dir, reviewer_emails)\n                print(f\"\\n✓ Created SharePoint script: {os.path.basename(script_path)}\")\n                \n                # Display email mapping summary\n                if any(email != 'N/A' for email in reviewer_emails.values()):\n                    print(\"\\n📧 Email addresses found:\")\n                    for reviewer, email in reviewer_emails.items():\n                        if email != 'N/A':\n                            print(f\"  • {reviewer}: {email}\")\n                        else:\n                            print(f\"  • {reviewer}: [No email - will be prompted]\")\n            \n            # Summary\n            print(\"\\n\" + \"=\"*50)\n            print(\"✅ PROCESSING COMPLETE!\")\n            print(f\"📊 Processed {processed}/{len(reviewers)} reviewers\")\n            print(f\"📁 Output location: {base_dir}\")\n            print(f\"📂 Created folders: {', '.join([str(r) for r in reviewers[:5]])}\", end='')\n            if len(reviewers) > 5:\n                print(f\" and {len(reviewers)-5} more...\")\n            else:\n                print()\n            \n            print(\"\\n⚠️  IMPORTANT: SharePoint Co-authoring\")\n            print(\"When uploaded to SharePoint, changes in the reviewer Excel files\")\n            print(\"will automatically sync back to the original file if co-authoring is enabled.\")\n            \n            print(\"\\n📋 Next steps:\")\n            print(\"1. Review the created folders and files\")\n            print(\"2. Upload the entire folder structure to SharePoint\")\n            if create_script.value:\n                print(\"3. Run 'share_folders.ps1' to set permissions\")\n                if any(email != 'N/A' for email in reviewer_emails.values()):\n                    print(\"   (Email addresses have been pre-filled where available)\")\n            \n        except Exception as e:\n            print(f\"\\n❌ Fatal error: {e}\")\n            import traceback\n            traceback.print_exc()\n\n# Attach the function to button\nprocess_button.on_click(process_excel)\nprint(\"✓ Processing function ready\")"
  },
  {
   "cell_type": "markdown",
   "metadata": {},
   "source": [
    "## Step 6: Preview Excel File (Optional)\n",
    "Run this cell to preview your Excel file and verify the column names:"
   ]
  },
  {
   "cell_type": "code",
   "metadata": {},
   "outputs": [],
   "source": "# Preview Excel file\npreview_file = widgets.Text(\n    value='',\n    placeholder='C:\\\\Users\\\\YourName\\\\Documents\\\\user_listing.xlsx',\n    description='File to Preview:',\n    style={'description_width': 'initial'},\n    layout=widgets.Layout(width='600px')\n)\n\npreview_button = widgets.Button(\n    description='Preview Excel',\n    button_style='info'\n)\n\npreview_output = widgets.Output()\n\ndef preview_excel(button):\n    with preview_output:\n        clear_output()\n        file_path = preview_file.value.strip()\n        if not file_path:\n            print(\"Please enter a file path\")\n            return\n        \n        file_path = os.path.normpath(file_path)\n        if not os.path.exists(file_path):\n            print(f\"File not found: {file_path}\")\n            return\n        \n        try:\n            df = pd.read_excel(file_path, engine='openpyxl')\n            print(f\"📊 File: {os.path.basename(file_path)}\")\n            print(f\"📏 Shape: {df.shape[0]} rows × {df.shape[1]} columns\")\n            print(f\"\\n📋 Columns: {', '.join(df.columns)}\")\n            print(\"\\n🔍 First 5 rows:\")\n            display(df.head())\n            \n            if 'Reviewer' in df.columns:\n                reviewers = df['Reviewer'].dropna().unique()\n                print(f\"\\n👥 Unique Reviewers ({len(reviewers)}): {', '.join(str(r) for r in reviewers[:10])}\")\n                if len(reviewers) > 10:\n                    print(\"... and more\")\n            \n            if 'Email Address' in df.columns:\n                print(\"\\n📧 Email Address column found!\")\n                # Show sample email mapping\n                sample_data = df[['Reviewer', 'Email Address']].drop_duplicates('Reviewer').head(5)\n                print(\"\\nSample reviewer-email mapping:\")\n                for _, row in sample_data.iterrows():\n                    if pd.notna(row['Reviewer']) and pd.notna(row['Email Address']):\n                        print(f\"  • {row['Reviewer']}: {row['Email Address']}\")\n            \n        except Exception as e:\n            print(f\"Error reading file: {e}\")\n\npreview_button.on_click(preview_excel)\n\ndisplay(preview_file)\ndisplay(preview_button)\ndisplay(preview_output)"
  },
  {
   "cell_type": "markdown",
   "metadata": {},
   "source": "## Tips for Windows Users\n\n### File Paths\n- Use full paths: `C:\\Users\\YourName\\Documents\\file.xlsx`\n- Or use forward slashes: `C:/Users/YourName/Documents/file.xlsx`\n- For network drives: `\\\\\\\\server\\share\\folder\\file.xlsx`\n\n### Excel File Naming\n- Original: `user_listing.xlsx`\n- Reviewer files: `user_listing - John Doe.xlsx`, `user_listing - Jane Smith.xlsx`\n- Each reviewer's name is appended to the filename for easy identification\n\n### SharePoint Co-authoring\n- **IMPORTANT**: When you upload to SharePoint with co-authoring enabled, changes made in reviewer Excel files will automatically sync back to the original file\n- This requires proper SharePoint setup with co-authoring features\n- Each reviewer can only see and edit their filtered data, but changes sync to the master\n\n### Document Handling\n- **Word Documents**: Checkbox to copy all `.doc` and `.docx` files\n- **PDF Documents**: Separate checkbox to copy all `.pdf` files\n- Select which document types you want to distribute to reviewers\n\n### Folder Structure Example\n```\nOriginal:\nC:\\Documents\\\n├── user_listing.xlsx\n├── Guide.docx\n└── Form.pdf\n\nAfter Processing:\nC:\\Documents\\\n├── user_listing.xlsx (original)\n├── Guide.docx\n├── Form.pdf\n├── John Doe\\\n│   ├── user_listing - John Doe.xlsx\n│   ├── Guide.docx (if Word checkbox selected)\n│   └── Form.pdf (if PDF checkbox selected)\n└── Jane Smith\\\n    └── user_listing - Jane Smith.xlsx (etc.)\n```\n\n### Troubleshooting\n- **\"File not found\"**: Check the path and ensure the file exists\n- **\"Column not found\"**: Use the preview function to verify column names\n- **Permission errors**: Run Jupyter as administrator if needed",
   "outputs": []
  }
 ],
 "metadata": {
  "kernelspec": {
   "display_name": "Python 3",
   "language": "python",
   "name": "python3"
  },
  "language_info": {
   "codemirror_mode": {
    "name": "ipython",
    "version": 3
   },
   "file_extension": ".py",
   "mimetype": "text/x-python",
   "name": "python",
   "nbconvert_exporter": "python",
   "pygments_lexer": "ipython3",
   "version": "3.9.0"
  }
 },
 "nbformat": 4,
 "nbformat_minor": 4
}