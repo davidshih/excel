{
 "cells": [
  {
   "cell_type": "markdown",
   "metadata": {},
   "source": [
    "# Excel Splitter for SharePoint - Interactive Interface\n",
    "\n",
    "This notebook provides an easy-to-use interface for splitting Excel files by reviewer and preparing them for SharePoint upload.\n",
    "\n",
    "## Prerequisites\n",
    "- Python 3.9 or higher\n",
    "- Required packages: pandas, openpyxl\n",
    "- Excel file with \"Reviewer\" column\n",
    "- (Optional) Word documents and permission PDFs for distribution"
   ]
  },
  {
   "cell_type": "markdown",
   "metadata": {},
   "source": [
    "## Step 1: Install Required Packages\n",
    "Run this cell first to ensure all dependencies are installed:"
   ]
  },
  {
   "cell_type": "code",
   "execution_count": null,
   "metadata": {},
   "outputs": [],
   "source": [
    "# Install required packages\n",
    "import sys\n",
    "!{sys.executable} -m pip install pandas openpyxl"
   ]
  },
  {
   "cell_type": "markdown",
   "metadata": {},
   "source": [
    "## Step 2: Import Required Libraries"
   ]
  },
  {
   "cell_type": "code",
   "execution_count": null,
   "metadata": {},
   "outputs": [],
   "source": [
    "import os\n",
    "import sys\n",
    "import shutil\n",
    "import pandas as pd\n",
    "from pathlib import Path\n",
    "from openpyxl import load_workbook\n",
    "from openpyxl.utils import get_column_letter\n",
    "import glob\n",
    "from datetime import datetime\n",
    "from IPython.display import display, HTML, clear_output\n",
    "import ipywidgets as widgets\n",
    "\n",
    "print(\"✓ Libraries imported successfully\")"
   ]
  },
  {
   "cell_type": "markdown",
   "metadata": {},
   "source": [
    "## Step 3: Define Helper Functions"
   ]
  },
  {
   "cell_type": "code",
   "metadata": {},
   "outputs": [],
   "source": "def find_column(worksheet, column_name):\n    \"\"\"Find column index by name\"\"\"\n    for col_idx, cell in enumerate(worksheet[1], start=1):\n        if cell.value == column_name:\n            return col_idx\n    raise ValueError(f\"Cannot find '{column_name}' column! Please check column name\")\n\ndef copy_documents(source_dir, dest_dir, app_name):\n    \"\"\"Copy Word documents and PDFs to destination\"\"\"\n    copied_files = []\n    \n    # Word documents\n    word_pattern = os.path.join(source_dir, f\"{app_name}*.docx\")\n    word_files = glob.glob(word_pattern)\n    \n    # PDF documents\n    pdf_pattern = os.path.join(source_dir, f\"{app_name}*permission*.pdf\")\n    pdf_files = glob.glob(pdf_pattern)\n    \n    for file in word_files + pdf_files:\n        dest_path = os.path.join(dest_dir, os.path.basename(file))\n        shutil.copy2(file, dest_path)\n        copied_files.append(os.path.basename(file))\n    \n    return copied_files\n\ndef create_sharepoint_script(base_dir, reviewer_emails):\n    \"\"\"Create PowerShell script for SharePoint permissions with automatic email mapping\"\"\"\n    script_path = os.path.join(base_dir, \"share_folders.ps1\")\n    \n    with open(script_path, 'w', encoding='utf-8') as f:\n        f.write(\"# PowerShell script to share folders on SharePoint\\n\")\n        f.write(\"# Generated on: \" + datetime.now().strftime(\"%Y-%m-%d %H:%M:%S\") + \"\\n\\n\")\n        f.write(\"$siteUrl = Read-Host 'Enter SharePoint site URL'\\n\")\n        f.write(\"$baseFolder = Read-Host 'Enter base folder path on SharePoint'\\n\\n\")\n        f.write(\"Connect-PnPOnline -Url $siteUrl -UseWebLogin\\n\\n\")\n        \n        for reviewer_name, email in reviewer_emails.items():\n            f.write(f\"# Share folder for {reviewer_name}\\n\")\n            f.write(f\"$folderPath = Join-Path $baseFolder '{reviewer_name}'\\n\")\n            \n            if email and email != 'N/A':\n                f.write(f\"$userEmail = '{email}'\\n\")\n                f.write(f\"Write-Host 'Sharing with {reviewer_name} ({email})...'\\n\")\n            else:\n                f.write(f\"$userEmail = Read-Host 'Enter email for {reviewer_name}'\\n\")\n            \n            f.write(f\"try {{\\n\")\n            f.write(f\"    Set-PnPFolderPermission -List 'Documents' -Identity $folderPath -User $userEmail -AddRole 'Edit'\\n\")\n            f.write(f\"    Write-Host '✓ Shared folder for {reviewer_name} with Edit permissions' -ForegroundColor Green\\n\")\n            f.write(f\"}} catch {{\\n\")\n            f.write(f\"    Write-Host '✗ Failed to share with {reviewer_name}: $_' -ForegroundColor Red\\n\")\n            f.write(f\"}}\\n\\n\")\n    \n    return script_path\n\nprint(\"✓ Helper functions defined\")"
  },
  {
   "cell_type": "markdown",
   "metadata": {},
   "source": [
    "## Step 4: User Input Interface\n",
    "Fill in the required information below:"
   ]
  },
  {
   "cell_type": "code",
   "metadata": {},
   "outputs": [],
   "source": "# Create input widgets\nexcel_file = widgets.Text(\n    value='',\n    placeholder='C:\\\\Users\\\\YourName\\\\Documents\\\\user_listing.xlsx',\n    description='Excel File:',\n    style={'description_width': 'initial'},\n    layout=widgets.Layout(width='600px')\n)\n\napp_name = widgets.Text(\n    value='',\n    placeholder='MyApplication',\n    description='App Name:',\n    style={'description_width': 'initial'},\n    layout=widgets.Layout(width='300px')\n)\n\nreviewer_column = widgets.Text(\n    value='Reviewer',\n    description='Reviewer Column:',\n    style={'description_width': 'initial'},\n    layout=widgets.Layout(width='300px')\n)\n\nemail_column = widgets.Text(\n    value='Email Address',\n    description='Email Column:',\n    style={'description_width': 'initial'},\n    layout=widgets.Layout(width='300px')\n)\n\ncopy_docs = widgets.Checkbox(\n    value=True,\n    description='Copy Word/PDF documents to reviewer folders',\n    style={'description_width': 'initial'}\n)\n\ncreate_script = widgets.Checkbox(\n    value=True,\n    description='Create SharePoint sharing script',\n    style={'description_width': 'initial'}\n)\n\nauto_email = widgets.Checkbox(\n    value=True,\n    description='Use email addresses from Excel for automatic sharing (if available)',\n    style={'description_width': 'initial'}\n)\n\n# Display input form\ndisplay(HTML(\"<h3>Configuration</h3>\"))\ndisplay(excel_file)\ndisplay(app_name)\ndisplay(reviewer_column)\ndisplay(email_column)\ndisplay(HTML(\"<h4>Options</h4>\"))\ndisplay(copy_docs)\ndisplay(create_script)\ndisplay(auto_email)\n\n# Create button\nprocess_button = widgets.Button(\n    description='Process Excel File',\n    button_style='primary',\n    layout=widgets.Layout(width='200px', height='40px')\n)\n\noutput = widgets.Output()\n\ndisplay(HTML(\"<br>\"))\ndisplay(process_button)\ndisplay(output)"
  },
  {
   "cell_type": "markdown",
   "metadata": {},
   "source": [
    "## Step 5: Processing Function"
   ]
  },
  {
   "cell_type": "code",
   "metadata": {},
   "outputs": [],
   "source": "def process_excel(button):\n    \"\"\"Main processing function triggered by button click\"\"\"\n    with output:\n        clear_output()\n        \n        # Validate inputs\n        if not excel_file.value:\n            print(\"❌ Error: Please specify an Excel file path\")\n            return\n        \n        if not app_name.value:\n            print(\"❌ Error: Please specify an application name\")\n            return\n        \n        file_path = excel_file.value.strip()\n        app = app_name.value.strip()\n        column = reviewer_column.value.strip()\n        email_col = email_column.value.strip() if auto_email.value else None\n        \n        # Convert path for Windows\n        file_path = os.path.normpath(file_path)\n        \n        if not os.path.exists(file_path):\n            print(f\"❌ Error: File not found: {file_path}\")\n            return\n        \n        print(f\"📁 Processing: {file_path}\")\n        print(f\"📱 Application: {app}\")\n        print(f\"📊 Reviewer Column: {column}\")\n        if email_col:\n            print(f\"📧 Email Column: {email_col}\")\n        print(\"=\"*50)\n        \n        try:\n            # Read Excel file\n            df = pd.read_excel(file_path, engine='openpyxl')\n            \n            if column not in df.columns:\n                print(f\"❌ Error: Column '{column}' not found in Excel file\")\n                print(f\"Available columns: {', '.join(df.columns)}\")\n                return\n            \n            # Get unique reviewers\n            reviewers = df[column].dropna().unique().tolist()\n            print(f\"✓ Found {len(reviewers)} reviewers\")\n            \n            # Create email mapping if email column exists\n            reviewer_emails = {}\n            if email_col and email_col in df.columns:\n                print(f\"✓ Found '{email_col}' column - will use for automatic sharing\")\n                for reviewer in reviewers:\n                    reviewer_data = df[df[column] == reviewer]\n                    if not reviewer_data.empty:\n                        email = reviewer_data[email_col].iloc[0]\n                        if pd.notna(email):\n                            reviewer_emails[str(reviewer).strip()] = str(email).strip()\n                        else:\n                            reviewer_emails[str(reviewer).strip()] = 'N/A'\n            else:\n                if email_col and email_col not in df.columns:\n                    print(f\"⚠️ Warning: Email column '{email_col}' not found - will prompt for emails during sharing\")\n                reviewer_emails = {str(r).strip(): 'N/A' for r in reviewers}\n            \n            # Create application folder\n            base_dir = os.path.dirname(file_path)\n            app_folder = os.path.join(base_dir, app)\n            os.makedirs(app_folder, exist_ok=True)\n            print(f\"✓ Created folder: {app_folder}\")\n            \n            # Process each reviewer\n            base_name = os.path.basename(file_path)\n            processed = 0\n            \n            for reviewer in reviewers:\n                reviewer_name = str(reviewer).strip()\n                print(f\"\\n📝 Processing: {reviewer_name}\")\n                \n                # Create reviewer folder\n                reviewer_folder = os.path.join(app_folder, reviewer_name)\n                os.makedirs(reviewer_folder, exist_ok=True)\n                \n                # Create filtered Excel\n                dst_path = os.path.join(reviewer_folder, base_name)\n                wb = load_workbook(file_path)\n                ws = wb.active\n                \n                try:\n                    # Find column and apply filter\n                    col_idx = find_column(ws, column)\n                    max_row = ws.max_row\n                    max_col = ws.max_column\n                    \n                    filter_range = f\"A1:{get_column_letter(max_col)}{max_row}\"\n                    ws.auto_filter.ref = filter_range\n                    ws.auto_filter.add_filter_column(col_idx - 1, [reviewer_name])\n                    \n                    wb.save(dst_path)\n                    print(f\"  ✓ Created filtered Excel\")\n                    \n                    # Copy documents if requested\n                    if copy_docs.value:\n                        copied = copy_documents(base_dir, reviewer_folder, app)\n                        if copied:\n                            print(f\"  ✓ Copied {len(copied)} document(s)\")\n                    \n                    processed += 1\n                    \n                except Exception as e:\n                    print(f\"  ❌ Error: {e}\")\n                finally:\n                    wb.close()\n            \n            # Create SharePoint script if requested\n            if create_script.value:\n                script_path = create_sharepoint_script(app_folder, reviewer_emails)\n                print(f\"\\n✓ Created SharePoint script: {os.path.basename(script_path)}\")\n                \n                # Display email mapping summary\n                if any(email != 'N/A' for email in reviewer_emails.values()):\n                    print(\"\\n📧 Email addresses found:\")\n                    for reviewer, email in reviewer_emails.items():\n                        if email != 'N/A':\n                            print(f\"  • {reviewer}: {email}\")\n                        else:\n                            print(f\"  • {reviewer}: [No email - will be prompted]\")\n            \n            # Summary\n            print(\"\\n\" + \"=\"*50)\n            print(\"✅ PROCESSING COMPLETE!\")\n            print(f\"📊 Processed {processed}/{len(reviewers)} reviewers\")\n            print(f\"📁 Output folder: {app_folder}\")\n            print(\"\\n📋 Next steps:\")\n            print(\"1. Review the created folders and files\")\n            print(\"2. Upload the entire folder to SharePoint\")\n            if create_script.value:\n                print(\"3. Run 'share_folders.ps1' to set permissions\")\n                if any(email != 'N/A' for email in reviewer_emails.values()):\n                    print(\"   (Email addresses have been pre-filled where available)\")\n            \n        except Exception as e:\n            print(f\"\\n❌ Fatal error: {e}\")\n            import traceback\n            traceback.print_exc()\n\n# Attach the function to button\nprocess_button.on_click(process_excel)\nprint(\"✓ Processing function ready\")"
  },
  {
   "cell_type": "markdown",
   "metadata": {},
   "source": [
    "## Step 6: Preview Excel File (Optional)\n",
    "Run this cell to preview your Excel file and verify the column names:"
   ]
  },
  {
   "cell_type": "code",
   "execution_count": null,
   "metadata": {},
   "outputs": [],
   "source": [
    "# Preview Excel file\n",
    "preview_file = widgets.Text(\n",
    "    value='',\n",
    "    placeholder='C:\\\\Users\\\\YourName\\\\Documents\\\\user_listing.xlsx',\n",
    "    description='File to Preview:',\n",
    "    style={'description_width': 'initial'},\n",
    "    layout=widgets.Layout(width='600px')\n",
    ")\n",
    "\n",
    "preview_button = widgets.Button(\n",
    "    description='Preview Excel',\n",
    "    button_style='info'\n",
    ")\n",
    "\n",
    "preview_output = widgets.Output()\n",
    "\n",
    "def preview_excel(button):\n",
    "    with preview_output:\n",
    "        clear_output()\n",
    "        file_path = preview_file.value.strip()\n",
    "        if not file_path:\n",
    "            print(\"Please enter a file path\")\n",
    "            return\n",
    "        \n",
    "        file_path = os.path.normpath(file_path)\n",
    "        if not os.path.exists(file_path):\n",
    "            print(f\"File not found: {file_path}\")\n",
    "            return\n",
    "        \n",
    "        try:\n",
    "            df = pd.read_excel(file_path, engine='openpyxl')\n",
    "            print(f\"📊 File: {os.path.basename(file_path)}\")\n",
    "            print(f\"📏 Shape: {df.shape[0]} rows × {df.shape[1]} columns\")\n",
    "            print(f\"\\n📋 Columns: {', '.join(df.columns)}\")\n",
    "            print(\"\\n🔍 First 5 rows:\")\n",
    "            display(df.head())\n",
    "            \n",
    "            if 'Reviewer' in df.columns:\n",
    "                reviewers = df['Reviewer'].dropna().unique()\n",
    "                print(f\"\\n👥 Unique Reviewers ({len(reviewers)}): {', '.join(str(r) for r in reviewers[:10])}\")\n",
    "                if len(reviewers) > 10:\n",
    "                    print(\"... and more\")\n",
    "            \n",
    "        except Exception as e:\n",
    "            print(f\"Error reading file: {e}\")\n",
    "\n",
    "preview_button.on_click(preview_excel)\n",
    "\n",
    "display(preview_file)\n",
    "display(preview_button)\n",
    "display(preview_output)"
   ]
  },
  {
   "cell_type": "markdown",
   "metadata": {},
   "source": [
    "## Tips for Windows Users\n",
    "\n",
    "### File Paths\n",
    "- Use full paths: `C:\\Users\\YourName\\Documents\\file.xlsx`\n",
    "- Or use forward slashes: `C:/Users/YourName/Documents/file.xlsx`\n",
    "- For network drives: `\\\\\\\\server\\share\\folder\\file.xlsx`\n",
    "\n",
    "### SharePoint Integration\n",
    "1. **Sync Method**: If you have OneDrive sync enabled, work in your synced folder\n",
    "2. **Direct Upload**: Upload the generated folder structure directly to SharePoint\n",
    "3. **Permissions**: The generated PowerShell script requires SharePoint admin rights\n",
    "\n",
    "### Document Naming\n",
    "- Word docs: `AppName_anything.docx`\n",
    "- PDFs: `AppName_permission_anything.pdf`\n",
    "\n",
    "### Troubleshooting\n",
    "- **\"File not found\"**: Check the path and ensure the file exists\n",
    "- **\"Column not found\"**: Use the preview function to verify column names\n",
    "- **Permission errors**: Run Jupyter as administrator if needed"
   ]
  }
 ],
 "metadata": {
  "kernelspec": {
   "display_name": "Python 3",
   "language": "python",
   "name": "python3"
  },
  "language_info": {
   "codemirror_mode": {
    "name": "ipython",
    "version": 3
   },
   "file_extension": ".py",
   "mimetype": "text/x-python",
   "name": "python",
   "nbconvert_exporter": "python",
   "pygments_lexer": "ipython3",
   "version": "3.9.0"
  }
 },
 "nbformat": 4,
 "nbformat_minor": 4
}