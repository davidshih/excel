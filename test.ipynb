好的！不要中斷繼承權限，還要修正憑證驗證問題，我來幫你改進這個程式碼！就像修正薪水太低的問題一樣重要 XD

```python
# %% [markdown]
# # SharePoint 資料夾分享工具 (SSO 版本) 🚀
# 不中斷權限繼承版本 + 修正 SSL 憑證問題
# 讓分享變得跟在 PTT 推文一樣簡單！

# %% [markdown]
# ## Step 1: 安裝必要套件

# %%
# 如果還沒安裝，請執行這個 cell
# !pip install Office365-REST-Python-Client requests

# %% [markdown]
# ## Step 2: 載入必要的函式庫 + 修正 SSL 問題

# %%
import os
import ssl
import warnings
import urllib3
from office365.runtime.auth.user_credential import UserCredential
from office365.sharepoint.client_context import ClientContext
import requests
import getpass
from urllib.parse import urlparse
import json

# 關閉 SSL 警告（如果你知道你在做什麼的話）
urllib3.disable_warnings(urllib3.exceptions.InsecureRequestWarning)
warnings.filterwarnings('ignore', message='Unverified HTTPS request')

# 設定 SSL 處理
os.environ['PYTHONWARNINGS'] = 'ignore:Unverified HTTPS request'

# 建立不驗證的 SSL context
ssl_context = ssl.create_default_context()
ssl_context.check_hostname = False
ssl_context.verify_mode = ssl.CERT_NONE

print("✅ 套件載入完成！SSL 驗證已設定為寬鬆模式")
print("   （就像在夜市買東西不用發票一樣 😅）")

# %% [markdown]
# ## Step 3: 自訂 ClientContext 以處理 SSL 問題

# %%
class CustomClientContext(ClientContext):
    """
    自訂的 ClientContext，處理 SSL 憑證問題
    就像自己改裝機車一樣！
    """
    def __init__(self, url):
        super().__init__(url)
        # 覆寫 requests 的 session 設定
        self.pending_request().beforeExecute += self._patch_request
    
    def _patch_request(self, request):
        """修改每個 request 的 SSL 設定"""
        # 設定不驗證 SSL
        request.verify = False
        return request

# %% [markdown]
# ## Step 4: 主要的分享類別

# %%
class SharePointAutoSharer:
    def __init__(self, site_url):
        self.site_url = site_url
        self.ctx = None
        
    def connect(self, username=None, password=None):
        """連接到 SharePoint"""
        try:
            if username and password:
                # 使用提供的認證
                print(f"🔐 使用帳號密碼登入：{username}")
                self.ctx = CustomClientContext(self.site_url).with_credentials(
                    UserCredential(username, password)
                )
            else:
                # 互動式登入
                print("💡 請輸入你的 Microsoft 365 認證資訊：")
                username = input("👤 使用者名稱 (email): ")
                password = getpass.getpass("🔑 密碼: ")
                self.ctx = CustomClientContext(self.site_url).with_credentials(
                    UserCredential(username, password)
                )
            
            # 測試連線
            web = self.ctx.web
            self.ctx.load(web)
            self.ctx.execute_query()
            print(f"✅ 成功連接到：{web.properties['Title']}")
            return True
            
        except Exception as e:
            print(f"❌ 連線失敗：{str(e)}")
            print("   提示：")
            print("   1. 確認網址正確")
            print("   2. 確認帳號密碼正確")
            print("   3. 確認有權限存取此網站")
            return False
    
    def find_user(self, display_name):
        """根據顯示名稱尋找使用者"""
        print(f"🔍 搜尋使用者：{display_name}")
        
        try:
            # 方法 1: 使用 ensure_user 直接嘗試
            try:
                # 先嘗試用 email 格式
                email_attempt = f"{display_name}@{urlparse(self.site_url).hostname.split('.')[0]}.com"
                user = self.ctx.web.ensure_user(email_attempt)
                self.ctx.execute_query()
                
                return [{
                    'Title': user.properties.get('Title'),
                    'Email': user.properties.get('Email'),
                    'LoginName': user.properties.get('LoginName'),
                    'Id': user.properties.get('Id')
                }]
            except:
                pass
            
            # 方法 2: 搜尋所有使用者
            users = self.ctx.web.site_users
            self.ctx.load(users)
            self.ctx.execute_query()
            
            found_users = []
            for user in users:
                user_title = user.properties.get('Title', '')
                user_email = user.properties.get('Email', '')
                
                # 排除系統使用者
                if 'system' in user_title.lower() or not user_email:
                    continue
                
                # 完全符合或部分符合
                if (display_name.lower() in user_title.lower() or 
                    display_name.lower() in user_email.lower()):
                    found_users.append({
                        'Title': user_title,
                        'Email': user_email,
                        'LoginName': user.properties.get('LoginName'),
                        'Id': user.properties.get('Id')
                    })
                    print(f"✅ 找到使用者：{user_title} ({user_email})")
            
            if not found_users:
                print("❌ 找不到使用者")
                print("   可能的原因：")
                print("   1. 名字拼錯了")
                print("   2. 使用者不在這個網站")
                print("   3. 使用者去買雞排還沒回來 😂")
            
            return found_users
            
        except Exception as e:
            print(f"❌ 搜尋時發生錯誤：{str(e)}")
            return []
    
    def share_folder_simple(self, folder_path, user_email_or_login, permission_level='Contribute'):
        """
        分享資料夾給指定使用者（不中斷權限繼承）
        permission_level: 'Read', 'Contribute', 'Edit', 'Full Control'
        """
        print(f"\n📁 準備分享資料夾...")
        print(f"   路徑：{folder_path}")
        print(f"   分享給：{user_email_or_login}")
        print(f"   權限：{permission_level}")
        
        try:
            # 取得資料夾
            folder = self.ctx.web.get_folder_by_server_relative_url(folder_path)
            self.ctx.load(folder)
            self.ctx.execute_query()
            print("✅ 找到資料夾")
            
            # 取得資料夾的 ListItem
            list_item = folder.listItemAllFields
            self.ctx.load(list_item)
            self.ctx.execute_query()
            
            # 確保使用者存在
            user = self.ctx.web.ensure_user(user_email_or_login)
            self.ctx.execute_query()
            print(f"✅ 確認使用者：{user.properties['Title']}")
            
            # 取得角色定義
            role_def_name = {
                'Read': 'Read',
                'Contribute': 'Contribute',
                'Edit': 'Edit',
                'Full Control': 'Full Control'
            }.get(permission_level, 'Contribute')
            
            role_def = self.ctx.web.role_definitions.get_by_name(role_def_name)
            self.ctx.load(role_def)
            self.ctx.execute_query()
            print(f"✅ 取得權限定義：{role_def_name}")
            
            # 直接新增權限（不中斷繼承）
            role_assignment = list_item.role_assignments.add_role_assignment(
                user, 
                role_def
            )
            self.ctx.execute_query()
            
            print(f"\n🎉 成功分享資料夾！")
            print(f"   {user.properties['Title']} 現在有 {permission_level} 權限")
            print("   權限繼承保持不變，其他人的權限不受影響")
            print("   （就像加薪不影響其他人一樣 😄）")
            
            return True
            
        except Exception as e:
            error_msg = str(e)
            print(f"\n❌ 分享失敗：{error_msg}")
            
            # 提供更詳細的錯誤說明
            if "does not exist" in error_msg:
                print("   📂 找不到資料夾，請確認路徑是否正確")
            elif "Access denied" in error_msg:
                print("   🔒 權限不足，你可能沒有管理此資料夾的權限")
            elif "user cannot be found" in error_msg:
                print("   👤 找不到使用者，請確認 email 或登入名稱")
            else:
                print("   💡 請檢查網路連線和認證狀態")
            
            return False

# %% [markdown]
# ## Step 5: 快速使用函式

# %%
def quick_share_no_inheritance_break(site_url, folder_url, folder_name):
    """
    快速分享函式 - 不中斷權限繼承版本
    就像 Foodpanda 一樣快速，但不會把原本的餐廳關掉！
    """
    print("🚀 SharePoint 資料夾分享工具")
    print("   （不中斷權限繼承特別版）")
    print("=" * 50)
    
    # 建立分享工具
    sharer = SharePointAutoSharer(site_url)
    
    # 連接
    if not sharer.connect():
        return False
    
    # 從 URL 解析路徑
    parsed = urlparse(folder_url)
    base_path = parsed.path
    
    # 確保路徑格式正確
    if not base_path.endswith('/'):
        base_path += '/'
    
    # 完整資料夾路徑
    full_folder_path = base_path + folder_name
    print(f"\n📍 完整路徑：{full_folder_path}")
    
    # 尋找使用者
    print(f"\n🔍 尋找使用者：{folder_name}")
    users = sharer.find_user(folder_name)
    
    if not users:
        print("\n😢 找不到符合的使用者")
        # 嘗試手動輸入
        manual_email = input("\n💡 要不要手動輸入使用者 email？(輸入 email 或按 Enter 跳過): ").strip()
        if manual_email:
            return sharer.share_folder_simple(full_folder_path, manual_email, 'Contribute')
        return False
    
    # 如果有多個使用者，讓使用者選擇
    if len(users) > 1:
        print("\n找到多個使用者，請選擇：")
        for idx, user in enumerate(users):
            print(f"  {idx+1}. {user['Title']} - {user['Email']}")
        
        choice = input("\n請輸入編號 (預設選 1): ").strip() or "1"
        try:
            selected_user = users[int(choice) - 1]
        except:
            selected_user = users[0]
    else:
        selected_user = users[0]
    
    print(f"\n已選擇：{selected_user['Title']} ({selected_user['Email']})")
    
    # 確認分享
    confirm = input("\n確定要分享嗎？(Y/n): ").strip().lower()
    if confirm == 'n':
        print("已取消分享")
        return False
    
    # 執行分享
    return sharer.share_folder_simple(
        full_folder_path,
        selected_user['LoginName'] or selected_user['Email'],
        'Contribute'
    )

# %% [markdown]
# ## Step 6: 實際使用範例

# %%
# 設定你的資訊
SITE_URL = "https://your-company.sharepoint.com/sites/your-site"
FOLDER_BASE_URL = "https://your-company.sharepoint.com/sites/your-site/Shared%20Documents/share/"
FOLDER_NAME = "John Doe"

# 執行分享
# quick_share_no_inheritance_break(SITE_URL, FOLDER_BASE_URL, FOLDER_NAME)

# %% [markdown]
# ## Step 7: 互動式介面

# %%
def interactive_share():
    """
    互動式分享介面
    就像在 PTT 發文一樣簡單！
    """
    print("🎯 SharePoint 資料夾分享工具")
    print("   不中斷權限繼承版本")
    print("=" * 50)
    
    # 收集資訊
    site_url = input("\n📍 SharePoint 網站 URL\n   (例: https://company.sharepoint.com/sites/TeamSite): ").strip()
    folder_base = input("\n📂 資料夾基礎 URL\n   (例: https://company.sharepoint.com/sites/TeamSite/Documents/share/): ").strip()
    folder_name = input("\n👤 資料夾名稱（通常是人名）: ").strip()
    
    # 執行分享
    result = quick_share_no_inheritance_break(site_url, folder_base, folder_name)
    
    if result:
        print("\n🎊 恭喜！分享成功！")
        print("   可以去喝珍奶慶祝了 🧋")
    else:
        print("\n😅 分享失敗")
        print("   可能要找 IT 大大幫忙了")

# 執行互動式介面
# interactive_share()

# %% [markdown]
# ## 額外工具：批次分享

# %%
def batch_share(site_url, folder_base_url, user_folder_pairs):
    """
    批次分享多個資料夾
    就像團購一樣方便！
    
    user_folder_pairs: list of tuples [(folder_name, user_email), ...]
    """
    print("📦 批次分享模式啟動！")
    print(f"   準備分享 {len(user_folder_pairs)} 個資料夾")
    print("=" * 50)
    
    # 建立連線
    sharer = SharePointAutoSharer(site_url)
    if not sharer.connect():
        print("❌ 無法連線")
        return
    
    # 處理每個分享
    success_count = 0
    for folder_name, user_email in user_folder_pairs:
        print(f"\n處理：{folder_name} → {user_email}")
        
        full_path = folder_base_url.rstrip('/') + '/' + folder_name
        
        if sharer.share_folder_simple(full_path, user_email, 'Contribute'):
            success_count += 1
        else:
            print(f"   ⚠️  {folder_name} 分享失敗")
    
    print(f"\n📊 完成！成功分享 {success_count}/{len(user_folder_pairs)} 個資料夾")
    print("   就像外送平台的成功率一樣 😄")

# 使用範例：
# batch_list = [
#     ("John Doe", "john.doe@company.com"),
#     ("Jane Smith", "jane.smith@company.com"),
#     ("Bob Chen", "bob.chen@company.com")
# ]
# batch_share(SITE_URL, FOLDER_BASE_URL, batch_list)

# %% [markdown]
# ## 除錯資訊

# %%
print("💡 如果還是有 SSL 問題，可以嘗試：")
print("1. 更新 certifi: pip install --upgrade certifi")
print("2. 設定公司 proxy（如果有的話）")
print("3. 使用公司內部的憑證")
print("\n目前 SSL 設定：不驗證憑證（測試環境適用）")
print("正式環境請考慮使用適當的憑證驗證！")
```

## 主要改進：

1. **不中斷權限繼承**：移除了 `break_role_inheritance`，直接新增權限
2. **修正 SSL 驗證問題**：
   - 使用自訂的 `CustomClientContext`
   - 關閉 SSL 警告
   - 設定 `verify=False`
3. **更好的錯誤處理**：提供詳細的錯誤說明
4. **批次分享功能**：可以一次分享多個資料夾

## 使用方式：

1. 直接在 Jupyter Notebook 執行每個 cell
2. 輸入你的認證資訊（不需要 Azure App）
3. 程式會自動處理 SSL 問題

就像最近大家在討論的高房價問題一樣，這個工具幫你解決「權限太複雜」的問題！不會影響到其他人的權限，只是單純新增權限給需要的人～

有問題再跟我說，我繼續當你的 debug 好朋友！ ( ͡° ͜ʖ ͡°)